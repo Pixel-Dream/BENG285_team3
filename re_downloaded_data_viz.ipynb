{
 "cells": [
  {
   "cell_type": "code",
   "execution_count": 1,
   "metadata": {},
   "outputs": [],
   "source": [
    "import os\n",
    "import scanpy as sc\n",
    "import matplotlib.pyplot as plt\n",
    "import sys\n",
    "sys.path.append(\"clustering/nonlinear\")\n",
    "\n",
    "from main import basic_analysis"
   ]
  },
  {
   "cell_type": "markdown",
   "metadata": {},
   "source": [
    "## Re-Downloaded TCGA data"
   ]
  },
  {
   "cell_type": "code",
   "execution_count": null,
   "metadata": {},
   "outputs": [
    {
     "name": "stdout",
     "output_type": "stream",
     "text": [
      "Loading AnnData from data/LUAD_TPM_normalized.h5ad\n",
      "Running tsne analysis with metadata grouping from data/meta_group.json\n",
      "Warning: demographic.country_of_residence_at_enrollment not found in AnnData obs\n",
      "Warning: demographic.gender not found in AnnData obs\n",
      "Warning: demographic.race not found in AnnData obs\n",
      "Warning: demographic.vital_status not found in AnnData obs\n",
      "Warning: diagnoses.ajcc_pathologic_m not found in AnnData obs\n",
      "Warning: diagnoses.ajcc_pathologic_n not found in AnnData obs\n",
      "Warning: diagnoses.ajcc_pathologic_stage not found in AnnData obs\n",
      "Warning: diagnoses.ajcc_pathologic_t not found in AnnData obs\n",
      "Warning: diagnoses.classification_of_tumor not found in AnnData obs\n",
      "Warning: diagnoses.diagnosis_is_primary_disease not found in AnnData obs\n",
      "Warning: diagnoses.laterality not found in AnnData obs\n",
      "Warning: diagnoses.primary_diagnosis not found in AnnData obs\n",
      "Warning: diagnoses.prior_malignancy not found in AnnData obs\n",
      "Warning: diagnoses.prior_treatment not found in AnnData obs\n",
      "Warning: diagnoses.sites_of_involvement not found in AnnData obs\n",
      "Warning: diagnoses.tissue_or_organ_of_origin not found in AnnData obs\n",
      "Warning: exposures.tobacco_smoking_status not found in AnnData obs\n",
      "Warning: follow_ups.disease_response not found in AnnData obs\n",
      "Warning: treatment.treatment_or_therapy not found in AnnData obs\n",
      "Warning: treatment.treatment_type not found in AnnData obs\n",
      "Warning: cases.disease_type not found in AnnData obs\n",
      "Metadata preprocessing complete. Created 0 grouped columns:\n",
      "Working with AnnData object: 598 samples, 60660 genes\n",
      "Selecting 2000 most variable genes...\n",
      "Using pre-calculated gene variance\n",
      "Running t-SNE with parameters: perplexity=30, learning_rate=200, n_iter=1000, early_exaggeration=12, init=pca, metric=euclidean, random_state=123\n",
      "[t-SNE] Computing 91 nearest neighbors...\n",
      "[t-SNE] Indexed 598 samples in 0.022s...\n",
      "[t-SNE] Computed neighbors for 598 samples in 0.026s...\n",
      "[t-SNE] Computed conditional probabilities for sample 598 / 598\n",
      "[t-SNE] Mean sigma: 3.635152\n"
     ]
    },
    {
     "name": "stderr",
     "output_type": "stream",
     "text": [
      "/opt/homebrew/Caskroom/miniconda/base/envs/sc/lib/python3.10/site-packages/sklearn/manifold/_t_sne.py:1164: FutureWarning: 'n_iter' was renamed to 'max_iter' in version 1.5 and will be removed in 1.7.\n",
      "  warnings.warn(\n"
     ]
    },
    {
     "name": "stdout",
     "output_type": "stream",
     "text": [
      "[t-SNE] KL divergence after 250 iterations with early exaggeration: 82.217651\n",
      "[t-SNE] KL divergence after 1000 iterations: 1.043028\n",
      "t-SNE completed in 3.74 seconds\n",
      "Saved embedding coordinates to: results_NEW_DATA/tsne_p30_lr200_it1000_ee12_initpca_meteuclidean/result_coordinates.csv\n",
      "Saved uncolored plot to: results_NEW_DATA/tsne_p30_lr200_it1000_ee12_initpca_meteuclidean/tsne_params_uncolored.png\n",
      "Saved colored plot to: results_NEW_DATA/tsne_p30_lr200_it1000_ee12_initpca_meteuclidean/tsne_params_tissue_type.png\n",
      "Saved colored plot to: results_NEW_DATA/tsne_p30_lr200_it1000_ee12_initpca_meteuclidean/tsne_params_tobacco_smoking_status.png\n",
      "Saved colored plot to: results_NEW_DATA/tsne_p30_lr200_it1000_ee12_initpca_meteuclidean/tsne_params_gender.png\n",
      "Saved colored plot to: results_NEW_DATA/tsne_p30_lr200_it1000_ee12_initpca_meteuclidean/tsne_params_vital_status.png\n",
      "Analysis complete! Individual plots saved to results_NEW_DATA\n",
      "Embedding coordinates saved to results_NEW_DATA/tsne_p30_lr200_it1000_ee12_initpca_meteuclidean/result_coordinates.csv\n"
     ]
    }
   ],
   "source": [
    "check_cols =  [\"tissue_type\", \"tobacco_smoking_status\", \"gender\", \"vital_status\"]\n",
    "ADATA_PATH = \"data/LUAD_TPM_normalized.h5ad\"\n",
    "GROUP_MAPPING_PATH = \"data/meta_group.json\"\n",
    "\n",
    "adata_grouped, tsne_result, tsne_path = basic_analysis(\n",
    "    ADATA_PATH, \n",
    "    GROUP_MAPPING_PATH, \n",
    "    method_name='tsne',\n",
    "    output_dir=\"results_NEW_DATA_tsne\",\n",
    "    color_by=check_cols,\n",
    "    random_state=123\n",
    ")"
   ]
  },
  {
   "cell_type": "code",
   "execution_count": 6,
   "metadata": {},
   "outputs": [
    {
     "name": "stdout",
     "output_type": "stream",
     "text": [
      "Loading AnnData from data/LUAD_TPM_normalized.h5ad\n",
      "Running umap analysis with metadata grouping from data/meta_group.json\n",
      "Warning: demographic.country_of_residence_at_enrollment not found in AnnData obs\n",
      "Warning: demographic.gender not found in AnnData obs\n",
      "Warning: demographic.race not found in AnnData obs\n",
      "Warning: demographic.vital_status not found in AnnData obs\n",
      "Warning: diagnoses.ajcc_pathologic_m not found in AnnData obs\n",
      "Warning: diagnoses.ajcc_pathologic_n not found in AnnData obs\n",
      "Warning: diagnoses.ajcc_pathologic_stage not found in AnnData obs\n",
      "Warning: diagnoses.ajcc_pathologic_t not found in AnnData obs\n",
      "Warning: diagnoses.classification_of_tumor not found in AnnData obs\n",
      "Warning: diagnoses.diagnosis_is_primary_disease not found in AnnData obs\n",
      "Warning: diagnoses.laterality not found in AnnData obs\n",
      "Warning: diagnoses.primary_diagnosis not found in AnnData obs\n",
      "Warning: diagnoses.prior_malignancy not found in AnnData obs\n",
      "Warning: diagnoses.prior_treatment not found in AnnData obs\n",
      "Warning: diagnoses.sites_of_involvement not found in AnnData obs\n",
      "Warning: diagnoses.tissue_or_organ_of_origin not found in AnnData obs\n",
      "Warning: exposures.tobacco_smoking_status not found in AnnData obs\n",
      "Warning: follow_ups.disease_response not found in AnnData obs\n",
      "Warning: treatment.treatment_or_therapy not found in AnnData obs\n",
      "Warning: treatment.treatment_type not found in AnnData obs\n",
      "Warning: cases.disease_type not found in AnnData obs\n",
      "Metadata preprocessing complete. Created 0 grouped columns:\n",
      "Working with AnnData object: 598 samples, 60660 genes\n",
      "Selecting 2000 most variable genes...\n",
      "Using pre-calculated gene variance\n"
     ]
    },
    {
     "name": "stderr",
     "output_type": "stream",
     "text": [
      "/opt/homebrew/Caskroom/miniconda/base/envs/sc/lib/python3.10/site-packages/tqdm/auto.py:21: TqdmWarning: IProgress not found. Please update jupyter and ipywidgets. See https://ipywidgets.readthedocs.io/en/stable/user_install.html\n",
      "  from .autonotebook import tqdm as notebook_tqdm\n"
     ]
    },
    {
     "name": "stdout",
     "output_type": "stream",
     "text": [
      "Running UMAP with parameters: n_neighbors=15, min_dist=0.1, spread=1.0, metric=euclidean, random_state=123\n"
     ]
    },
    {
     "name": "stderr",
     "output_type": "stream",
     "text": [
      "/opt/homebrew/Caskroom/miniconda/base/envs/sc/lib/python3.10/site-packages/sklearn/utils/deprecation.py:151: FutureWarning: 'force_all_finite' was renamed to 'ensure_all_finite' in 1.6 and will be removed in 1.8.\n",
      "  warnings.warn(\n",
      "/opt/homebrew/Caskroom/miniconda/base/envs/sc/lib/python3.10/site-packages/umap/umap_.py:1943: UserWarning: n_jobs value -1 overridden to 1 by setting random_state. Use no seed for parallelism.\n",
      "  warn(f\"n_jobs value {self.n_jobs} overridden to 1 by setting random_state. Use no seed for parallelism.\")\n",
      "OMP: Info #276: omp_set_nested routine deprecated, please use omp_set_max_active_levels instead.\n"
     ]
    },
    {
     "name": "stdout",
     "output_type": "stream",
     "text": [
      "UMAP completed in 3.00 seconds\n",
      "Saved embedding coordinates to: results_NEW_DATA_umap/umap_n15_md0.1_sp1.0_meteuclidean_initspectral/result_coordinates.csv\n",
      "Saved uncolored plot to: results_NEW_DATA_umap/umap_n15_md0.1_sp1.0_meteuclidean_initspectral/umap_params_uncolored.png\n",
      "Saved colored plot to: results_NEW_DATA_umap/umap_n15_md0.1_sp1.0_meteuclidean_initspectral/umap_params_tissue_type.png\n",
      "Saved colored plot to: results_NEW_DATA_umap/umap_n15_md0.1_sp1.0_meteuclidean_initspectral/umap_params_tobacco_smoking_status.png\n",
      "Saved colored plot to: results_NEW_DATA_umap/umap_n15_md0.1_sp1.0_meteuclidean_initspectral/umap_params_gender.png\n",
      "Saved colored plot to: results_NEW_DATA_umap/umap_n15_md0.1_sp1.0_meteuclidean_initspectral/umap_params_vital_status.png\n",
      "Analysis complete! Individual plots saved to results_NEW_DATA_umap\n",
      "Embedding coordinates saved to results_NEW_DATA_umap/umap_n15_md0.1_sp1.0_meteuclidean_initspectral/result_coordinates.csv\n"
     ]
    }
   ],
   "source": [
    "adata_grouped, umap_result, umap_path = basic_analysis(\n",
    "    ADATA_PATH, \n",
    "    GROUP_MAPPING_PATH, \n",
    "    method_name='umap',\n",
    "    output_dir=\"results_NEW_DATA_umap\",\n",
    "    color_by=check_cols,\n",
    "    random_state=123\n",
    ")"
   ]
  }
 ],
 "metadata": {
  "kernelspec": {
   "display_name": "sc",
   "language": "python",
   "name": "python3"
  },
  "language_info": {
   "codemirror_mode": {
    "name": "ipython",
    "version": 3
   },
   "file_extension": ".py",
   "mimetype": "text/x-python",
   "name": "python",
   "nbconvert_exporter": "python",
   "pygments_lexer": "ipython3",
   "version": "3.10.13"
  }
 },
 "nbformat": 4,
 "nbformat_minor": 2
}
