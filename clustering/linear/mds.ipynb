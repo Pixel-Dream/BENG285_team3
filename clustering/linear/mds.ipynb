{
  "cells": [
    {
      "cell_type": "code",
      "execution_count": null,
      "metadata": {
        "colab": {
          "base_uri": "https://localhost:8080/"
        },
        "id": "bzlDPXW9lOl8",
        "outputId": "4a708d0f-68b3-4f8e-f597-de6be964ca33"
      },
      "outputs": [
        {
          "name": "stdout",
          "output_type": "stream",
          "text": [
            "Requirement already satisfied: scanpy in /usr/local/lib/python3.11/dist-packages (1.11.1)\n",
            "Requirement already satisfied: anndata in /usr/local/lib/python3.11/dist-packages (0.11.4)\n",
            "Requirement already satisfied: matplotlib in /usr/local/lib/python3.11/dist-packages (3.10.0)\n",
            "Requirement already satisfied: scikit-learn in /usr/local/lib/python3.11/dist-packages (1.5.2)\n",
            "Requirement already satisfied: h5py>=3.7 in /usr/local/lib/python3.11/dist-packages (from scanpy) (3.13.0)\n",
            "Requirement already satisfied: joblib in /usr/local/lib/python3.11/dist-packages (from scanpy) (1.4.2)\n",
            "Requirement already satisfied: legacy-api-wrap>=1.4 in /usr/local/lib/python3.11/dist-packages (from scanpy) (1.4.1)\n",
            "Requirement already satisfied: natsort in /usr/local/lib/python3.11/dist-packages (from scanpy) (8.4.0)\n",
            "Requirement already satisfied: networkx>=2.7 in /usr/local/lib/python3.11/dist-packages (from scanpy) (3.4.2)\n",
            "Requirement already satisfied: numba>=0.57 in /usr/local/lib/python3.11/dist-packages (from scanpy) (0.60.0)\n",
            "Requirement already satisfied: numpy>=1.24 in /usr/local/lib/python3.11/dist-packages (from scanpy) (2.0.2)\n",
            "Requirement already satisfied: packaging>=21.3 in /usr/local/lib/python3.11/dist-packages (from scanpy) (24.2)\n",
            "Requirement already satisfied: pandas>=1.5 in /usr/local/lib/python3.11/dist-packages (from scanpy) (2.2.2)\n",
            "Requirement already satisfied: patsy!=1.0.0 in /usr/local/lib/python3.11/dist-packages (from scanpy) (1.0.1)\n",
            "Requirement already satisfied: pynndescent>=0.5 in /usr/local/lib/python3.11/dist-packages (from scanpy) (0.5.13)\n",
            "Requirement already satisfied: scipy>=1.8 in /usr/local/lib/python3.11/dist-packages (from scanpy) (1.14.1)\n",
            "Requirement already satisfied: seaborn>=0.13 in /usr/local/lib/python3.11/dist-packages (from scanpy) (0.13.2)\n",
            "Requirement already satisfied: session-info2 in /usr/local/lib/python3.11/dist-packages (from scanpy) (0.1.2)\n",
            "Requirement already satisfied: statsmodels>=0.13 in /usr/local/lib/python3.11/dist-packages (from scanpy) (0.14.4)\n",
            "Requirement already satisfied: tqdm in /usr/local/lib/python3.11/dist-packages (from scanpy) (4.67.1)\n",
            "Requirement already satisfied: typing-extensions in /usr/local/lib/python3.11/dist-packages (from scanpy) (4.13.1)\n",
            "Requirement already satisfied: umap-learn!=0.5.0,>=0.5 in /usr/local/lib/python3.11/dist-packages (from scanpy) (0.5.7)\n",
            "Requirement already satisfied: array-api-compat!=1.5,>1.4 in /usr/local/lib/python3.11/dist-packages (from anndata) (1.11.2)\n",
            "Requirement already satisfied: contourpy>=1.0.1 in /usr/local/lib/python3.11/dist-packages (from matplotlib) (1.3.1)\n",
            "Requirement already satisfied: cycler>=0.10 in /usr/local/lib/python3.11/dist-packages (from matplotlib) (0.12.1)\n",
            "Requirement already satisfied: fonttools>=4.22.0 in /usr/local/lib/python3.11/dist-packages (from matplotlib) (4.57.0)\n",
            "Requirement already satisfied: kiwisolver>=1.3.1 in /usr/local/lib/python3.11/dist-packages (from matplotlib) (1.4.8)\n",
            "Requirement already satisfied: pillow>=8 in /usr/local/lib/python3.11/dist-packages (from matplotlib) (11.1.0)\n",
            "Requirement already satisfied: pyparsing>=2.3.1 in /usr/local/lib/python3.11/dist-packages (from matplotlib) (3.2.3)\n",
            "Requirement already satisfied: python-dateutil>=2.7 in /usr/local/lib/python3.11/dist-packages (from matplotlib) (2.8.2)\n",
            "Requirement already satisfied: threadpoolctl>=3.1.0 in /usr/local/lib/python3.11/dist-packages (from scikit-learn) (3.6.0)\n",
            "Requirement already satisfied: llvmlite<0.44,>=0.43.0dev0 in /usr/local/lib/python3.11/dist-packages (from numba>=0.57->scanpy) (0.43.0)\n",
            "Requirement already satisfied: pytz>=2020.1 in /usr/local/lib/python3.11/dist-packages (from pandas>=1.5->scanpy) (2025.2)\n",
            "Requirement already satisfied: tzdata>=2022.7 in /usr/local/lib/python3.11/dist-packages (from pandas>=1.5->scanpy) (2025.2)\n",
            "Requirement already satisfied: six>=1.5 in /usr/local/lib/python3.11/dist-packages (from python-dateutil>=2.7->matplotlib) (1.17.0)\n"
          ]
        }
      ],
      "source": [
        "!pip install scanpy anndata matplotlib scikit-learn"
      ]
    },
    {
      "cell_type": "markdown",
      "metadata": {
        "id": "JKx0VEYKZNN7"
      },
      "source": []
    },
    {
      "cell_type": "code",
      "execution_count": 2,
      "metadata": {
        "colab": {
          "base_uri": "https://localhost:8080/"
        },
        "id": "GtBeFf6LldEM",
        "outputId": "c6e5cf07-3c62-46d0-c41b-f30f950d3c20"
      },
      "outputs": [
        {
          "name": "stdout",
          "output_type": "stream",
          "text": [
            "Shape of data: (572, 19740)\n"
          ]
        },
        {
          "name": "stderr",
          "output_type": "stream",
          "text": [
            "/opt/homebrew/Caskroom/miniconda/base/envs/sc/lib/python3.10/site-packages/scanpy/plotting/_tools/scatterplots.py:1251: FutureWarning: The default value of 'ignore' for the `na_action` parameter in pandas.Categorical.map is deprecated and will be changed to 'None' in a future version. Please set na_action to the desired value to avoid seeing this warning\n",
            "  color_vector = pd.Categorical(values.map(color_map))\n",
            "/opt/homebrew/Caskroom/miniconda/base/envs/sc/lib/python3.10/site-packages/scanpy/plotting/_tools/scatterplots.py:394: UserWarning: No data for colormapping provided via 'c'. Parameters 'cmap' will be ignored\n",
            "  cax = scatter(\n",
            "/opt/homebrew/Caskroom/miniconda/base/envs/sc/lib/python3.10/site-packages/scanpy/plotting/_tools/scatterplots.py:1251: FutureWarning: The default value of 'ignore' for the `na_action` parameter in pandas.Categorical.map is deprecated and will be changed to 'None' in a future version. Please set na_action to the desired value to avoid seeing this warning\n",
            "  color_vector = pd.Categorical(values.map(color_map))\n",
            "/opt/homebrew/Caskroom/miniconda/base/envs/sc/lib/python3.10/site-packages/scanpy/plotting/_tools/scatterplots.py:394: UserWarning: No data for colormapping provided via 'c'. Parameters 'cmap' will be ignored\n",
            "  cax = scatter(\n",
            "/opt/homebrew/Caskroom/miniconda/base/envs/sc/lib/python3.10/site-packages/scanpy/plotting/_tools/scatterplots.py:1251: FutureWarning: The default value of 'ignore' for the `na_action` parameter in pandas.Categorical.map is deprecated and will be changed to 'None' in a future version. Please set na_action to the desired value to avoid seeing this warning\n",
            "  color_vector = pd.Categorical(values.map(color_map))\n",
            "/opt/homebrew/Caskroom/miniconda/base/envs/sc/lib/python3.10/site-packages/scanpy/plotting/_tools/scatterplots.py:394: UserWarning: No data for colormapping provided via 'c'. Parameters 'cmap' will be ignored\n",
            "  cax = scatter(\n",
            "/opt/homebrew/Caskroom/miniconda/base/envs/sc/lib/python3.10/site-packages/scanpy/plotting/_tools/scatterplots.py:1251: FutureWarning: The default value of 'ignore' for the `na_action` parameter in pandas.Categorical.map is deprecated and will be changed to 'None' in a future version. Please set na_action to the desired value to avoid seeing this warning\n",
            "  color_vector = pd.Categorical(values.map(color_map))\n",
            "/opt/homebrew/Caskroom/miniconda/base/envs/sc/lib/python3.10/site-packages/scanpy/plotting/_tools/scatterplots.py:394: UserWarning: No data for colormapping provided via 'c'. Parameters 'cmap' will be ignored\n",
            "  cax = scatter(\n"
          ]
        }
      ],
      "source": [
        "import scanpy as sc\n",
        "import pandas as pd\n",
        "import numpy as np\n",
        "import matplotlib.pyplot as plt\n",
        "from sklearn.manifold import MDS\n",
        "from sklearn.cluster import KMeans\n",
        "from scipy.stats import chi2_contingency, kruskal\n",
        "\n",
        "\n",
        "adata = sc.read_h5ad(\"../../data/z-scaled.h5ad\")\n",
        "\n",
        "print(f\"Shape of data: {adata.shape}\")\n",
        "\n",
        "\n",
        "X = adata.X\n",
        "mds = MDS(n_components=2, random_state=42, n_init=4, max_iter=300)\n",
        "X_mds = mds.fit_transform(X)\n",
        "adata.obsm[\"X_mds\"] = X_mds\n",
        "\n",
        "\n",
        "def plot_mds_feature(feature, title, save_path):\n",
        "    sc.pl.embedding(\n",
        "        adata,\n",
        "        basis=\"X_mds\",\n",
        "        color=feature,\n",
        "        title=title,\n",
        "        size=20,                 # Smaller point size\n",
        "        legend_loc=\"right margin\",  # Legend outside\n",
        "        legend_fontsize=8,        # Smaller font\n",
        "        frameon=False,            # No frame\n",
        "        show=False\n",
        "    )\n",
        "    plt.savefig(save_path, dpi=300, bbox_inches='tight')\n",
        "    plt.close()\n",
        "\n",
        "\n",
        "# 1. Tumor Classification\n",
        "plot_mds_feature(\n",
        "    \"diagnoses.classification_of_tumor\",\n",
        "    \"MDS Projection: Tumor Classification\",\n",
        "    \"MDS_Tumor_Classification.png\"\n",
        ")\n",
        "\n",
        "# 2. Gender\n",
        "plot_mds_feature(\n",
        "    \"demographic.gender\",\n",
        "    \"MDS Projection: Gender\",\n",
        "    \"MDS_Gender.png\"\n",
        ")\n",
        "\n",
        "# 3. Smoking Status\n",
        "plot_mds_feature(\n",
        "    \"exposures.tobacco_smoking_status\",\n",
        "    \"MDS Projection: Smoking Status\",\n",
        "    \"MDS_Smoking_Status.png\"\n",
        ")\n",
        "\n",
        "# 4. KMeans Clusters\n",
        "kmeans = KMeans(n_clusters=3, random_state=42).fit(X_mds)\n",
        "adata.obs[\"mds_cluster\"] = kmeans.labels_.astype(str)\n",
        "plot_mds_feature(\n",
        "    \"mds_cluster\",\n",
        "    \"MDS Projection: KMeans Clusters\",\n",
        "    \"MDS_KMeans_Clusters.png\"\n",
        ")\n"
      ]
    },
    {
      "cell_type": "code",
      "execution_count": 5,
      "metadata": {
        "colab": {
          "base_uri": "https://localhost:8080/"
        },
        "id": "hqRpwJscqeDX",
        "outputId": "08619007-4504-4d4b-acdf-6d0a107108b9"
      },
      "outputs": [
        {
          "name": "stdout",
          "output_type": "stream",
          "text": [
            "Chi-squared test for gender distribution across clusters:\n",
            "Chi2 statistic: 5.9728, p-value: 0.0505\n",
            "Chi-squared test for smoking status distribution across clusters:\n",
            "Chi2 statistic: 16.0751, p-value: 0.1878\n",
            "Kruskal-Wallis test for age distribution across clusters:\n",
            "Kruskal-Wallis statistic: 2.4010, p-value: 0.3010\n"
          ]
        }
      ],
      "source": [
        "from sklearn.cluster import KMeans\n",
        "from scipy.stats import chi2_contingency, kruskal\n",
        "\n",
        "# Cluster\n",
        "kmeans = KMeans(n_clusters=3, random_state=42).fit(X_mds)\n",
        "adata.obs[\"mds_cluster\"] = kmeans.labels_.astype(str)\n",
        "\n",
        "# Example: chi-square for gender distribution\n",
        "contingency_table = pd.crosstab(adata.obs[\"mds_cluster\"], adata.obs[\"demographic.gender\"])\n",
        "chi2, p, _, _ = chi2_contingency(contingency_table)\n",
        "print(f\"Chi-squared test for gender distribution across clusters:\")\n",
        "print(f\"Chi2 statistic: {chi2:.4f}, p-value: {p:.4f}\")\n",
        "# print(f\"Contingency table:\\n{contingency_table}\")\n",
        "\n",
        "# Chi-squared test: cluster vs smoking status\n",
        "contingency_smoking = pd.crosstab(adata.obs[\"mds_cluster\"], adata.obs[\"exposures.tobacco_smoking_status\"])\n",
        "chi2, p_smoking, _, _ = chi2_contingency(contingency_smoking)\n",
        "print(f\"Chi-squared test for smoking status distribution across clusters:\")\n",
        "print(f\"Chi2 statistic: {chi2:.4f}, p-value: {p_smoking:.4f}\")\n",
        "# print(f\"Contingency table:\\n{contingency_smoking}\")\n",
        "\n",
        "# Kruskal-Wallis test: cluster vs age at diagnosis\n",
        "groups = []\n",
        "for c in sorted(adata.obs[\"mds_cluster\"].unique()):\n",
        "    groups.append(adata.obs.loc[adata.obs[\"mds_cluster\"] == c, \"diagnoses.age_at_diagnosis\"].dropna())\n",
        "\n",
        "kw_stat, p_age = kruskal(*groups)\n",
        "print(f\"Kruskal-Wallis test for age distribution across clusters:\")\n",
        "print(f\"Kruskal-Wallis statistic: {kw_stat:.4f}, p-value: {p_age:.4f}\")"
      ]
    }
  ],
  "metadata": {
    "colab": {
      "provenance": []
    },
    "kernelspec": {
      "display_name": "sc",
      "language": "python",
      "name": "python3"
    },
    "language_info": {
      "codemirror_mode": {
        "name": "ipython",
        "version": 3
      },
      "file_extension": ".py",
      "mimetype": "text/x-python",
      "name": "python",
      "nbconvert_exporter": "python",
      "pygments_lexer": "ipython3",
      "version": "3.10.13"
    }
  },
  "nbformat": 4,
  "nbformat_minor": 0
}
