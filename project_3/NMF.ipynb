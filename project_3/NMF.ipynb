{
 "cells": [
  {
   "cell_type": "code",
   "execution_count": 2,
   "metadata": {},
   "outputs": [
    {
     "name": "stdout",
     "output_type": "stream",
     "text": [
      "开始环境依赖检查...\n",
      "\n",
      "[✓] numpy 已安装，版本：1.23.5\n",
      "[✓] pandas 已安装，版本：1.5.3\n",
      "[✓] sklearn 已安装，版本：1.2.1\n",
      "[✓] scipy 已安装，版本：1.10.0\n",
      "[✓] matplotlib 已安装，版本：3.7.0\n",
      "[✓] seaborn 已安装，版本：0.12.2\n",
      "\n",
      "检查完毕。\n"
     ]
    }
   ],
   "source": [
    "#!/usr/bin/env python3\n",
    "# -*- coding: utf-8 -*-\n",
    "\"\"\"\n",
    "环境依赖检查脚本\n",
    "检查是否安装以下包：\n",
    " - numpy\n",
    " - pandas\n",
    " - scikit-learn\n",
    " - scipy\n",
    " - matplotlib (可选，用于后续可视化)\n",
    " - seaborn   (可选)\n",
    "输出安装状态和版本号，如果未安装则提示安装命令。\n",
    "\"\"\"\n",
    "\n",
    "import importlib.util\n",
    "import subprocess\n",
    "import sys\n",
    "\n",
    "# 要检测的包及其 pip 安装名\n",
    "REQUIRED_PACKAGES = {\n",
    "    \"numpy\": \"numpy\",\n",
    "    \"pandas\": \"pandas\",\n",
    "    \"sklearn\": \"scikit-learn\",\n",
    "    \"scipy\": \"scipy\",\n",
    "    \"matplotlib\": \"matplotlib\",\n",
    "    \"seaborn\": \"seaborn\",\n",
    "}\n",
    "\n",
    "def check_package(pkg_name, install_name=None):\n",
    "    \"\"\"\n",
    "    检查 pkg_name 是否可导入，并打印版本；\n",
    "    如果不可用，给出 pip 安装建议。\n",
    "    \"\"\"\n",
    "    install_name = install_name or pkg_name\n",
    "    spec = importlib.util.find_spec(pkg_name)\n",
    "    if spec is None:\n",
    "        print(f\"[✗] {pkg_name} 未安装，请执行：pip install {install_name}\")\n",
    "    else:\n",
    "        module = importlib.import_module(pkg_name)\n",
    "        version = getattr(module, \"__version__\", \"未知版本\")\n",
    "        print(f\"[✓] {pkg_name} 已安装，版本：{version}\")\n",
    "\n",
    "def main():\n",
    "    print(\"开始环境依赖检查...\\n\")\n",
    "    for pkg, install_name in REQUIRED_PACKAGES.items():\n",
    "        check_package(pkg, install_name)\n",
    "    print(\"\\n检查完毕。\")\n",
    "\n",
    "if __name__ == \"__main__\":\n",
    "    main()\n"
   ]
  },
  {
   "cell_type": "code",
   "execution_count": 3,
   "metadata": {},
   "outputs": [
    {
     "name": "stdout",
     "output_type": "stream",
     "text": [
      "✅ 找到矩阵文件 → SBS\\TCGA.SBS96.all\n"
     ]
    }
   ],
   "source": [
    "import os\n",
    "import pandas as pd\n",
    "import numpy as np\n",
    "from sklearn.decomposition import NMF\n",
    "\n",
    "# === 修改这里：选择想分析的矩阵文件 ===\n",
    "matrix_file = \"TCGA.SBS96.all\"          # 也可以换成 TCGA.SBS18.all 等\n",
    "matrix_path = os.path.join(\"SBS\", matrix_file)\n",
    "\n",
    "assert os.path.exists(matrix_path), f\"❌ 找不到 {matrix_path}\"\n",
    "print(\"✅ 找到矩阵文件 →\", matrix_path)\n"
   ]
  },
  {
   "cell_type": "code",
   "execution_count": 5,
   "metadata": {},
   "outputs": [
    {
     "name": "stdout",
     "output_type": "stream",
     "text": [
      "📐 原始矩阵形状： (96, 512)\n"
     ]
    },
    {
     "data": {
      "text/html": [
       "<div>\n",
       "<style scoped>\n",
       "    .dataframe tbody tr th:only-of-type {\n",
       "        vertical-align: middle;\n",
       "    }\n",
       "\n",
       "    .dataframe tbody tr th {\n",
       "        vertical-align: top;\n",
       "    }\n",
       "\n",
       "    .dataframe thead th {\n",
       "        text-align: right;\n",
       "    }\n",
       "</style>\n",
       "<table border=\"1\" class=\"dataframe\">\n",
       "  <thead>\n",
       "    <tr style=\"text-align: right;\">\n",
       "      <th></th>\n",
       "      <th>TCGA-05-4244</th>\n",
       "      <th>TCGA-05-4249</th>\n",
       "      <th>TCGA-05-4250</th>\n",
       "      <th>TCGA-05-4382</th>\n",
       "      <th>TCGA-05-4384</th>\n",
       "    </tr>\n",
       "    <tr>\n",
       "      <th>MutationType</th>\n",
       "      <th></th>\n",
       "      <th></th>\n",
       "      <th></th>\n",
       "      <th></th>\n",
       "      <th></th>\n",
       "    </tr>\n",
       "  </thead>\n",
       "  <tbody>\n",
       "    <tr>\n",
       "      <th>A[C&gt;A]A</th>\n",
       "      <td>6</td>\n",
       "      <td>9</td>\n",
       "      <td>8</td>\n",
       "      <td>62</td>\n",
       "      <td>5</td>\n",
       "    </tr>\n",
       "    <tr>\n",
       "      <th>A[C&gt;A]C</th>\n",
       "      <td>7</td>\n",
       "      <td>12</td>\n",
       "      <td>1</td>\n",
       "      <td>73</td>\n",
       "      <td>2</td>\n",
       "    </tr>\n",
       "    <tr>\n",
       "      <th>A[C&gt;A]G</th>\n",
       "      <td>5</td>\n",
       "      <td>7</td>\n",
       "      <td>10</td>\n",
       "      <td>31</td>\n",
       "      <td>5</td>\n",
       "    </tr>\n",
       "    <tr>\n",
       "      <th>A[C&gt;A]T</th>\n",
       "      <td>2</td>\n",
       "      <td>8</td>\n",
       "      <td>9</td>\n",
       "      <td>48</td>\n",
       "      <td>4</td>\n",
       "    </tr>\n",
       "    <tr>\n",
       "      <th>A[C&gt;G]A</th>\n",
       "      <td>3</td>\n",
       "      <td>3</td>\n",
       "      <td>3</td>\n",
       "      <td>6</td>\n",
       "      <td>0</td>\n",
       "    </tr>\n",
       "  </tbody>\n",
       "</table>\n",
       "</div>"
      ],
      "text/plain": [
       "              TCGA-05-4244  TCGA-05-4249  TCGA-05-4250  TCGA-05-4382  \\\n",
       "MutationType                                                           \n",
       "A[C>A]A                  6             9             8            62   \n",
       "A[C>A]C                  7            12             1            73   \n",
       "A[C>A]G                  5             7            10            31   \n",
       "A[C>A]T                  2             8             9            48   \n",
       "A[C>G]A                  3             3             3             6   \n",
       "\n",
       "              TCGA-05-4384  \n",
       "MutationType                \n",
       "A[C>A]A                  5  \n",
       "A[C>A]C                  2  \n",
       "A[C>A]G                  5  \n",
       "A[C>A]T                  4  \n",
       "A[C>G]A                  0  "
      ]
     },
     "metadata": {},
     "output_type": "display_data"
    }
   ],
   "source": [
    "# *.all 文件由 SigProfiler 生成，默认制表符分隔，一列 MutationType + 多列样本\n",
    "V_df = pd.read_csv(matrix_path, sep=\"\\t\", index_col=0)\n",
    "\n",
    "print(\"📐 原始矩阵形状：\", V_df.shape)   # (突变类别数, 样本数)\n",
    "display(V_df.iloc[:5, :5])              # 预览前 5×5\n"
   ]
  },
  {
   "cell_type": "code",
   "execution_count": 6,
   "metadata": {},
   "outputs": [
    {
     "name": "stdout",
     "output_type": "stream",
     "text": [
      "✅ 归一化完成，形状： (96, 512)\n"
     ]
    }
   ],
   "source": [
    "V = V_df.values.astype(float)\n",
    "\n",
    "# 每个样本列除以本列总和，避免样本总突变数差异过大\n",
    "V = V / V.sum(axis=0, keepdims=True)\n",
    "\n",
    "# 验证无 NaN / Inf\n",
    "assert np.isfinite(V).all(), \"矩阵存在非法值\"\n",
    "print(\"✅ 归一化完成，形状：\", V.shape)\n"
   ]
  },
  {
   "cell_type": "code",
   "execution_count": 7,
   "metadata": {},
   "outputs": [
    {
     "name": "stdout",
     "output_type": "stream",
     "text": [
      "✅ NMF 完成：W(96, 5), H(5, 512)\n"
     ]
    },
    {
     "name": "stderr",
     "output_type": "stream",
     "text": [
      "d:\\anaconda\\lib\\site-packages\\sklearn\\decomposition\\_nmf.py:1524: UserWarning: The multiplicative update ('mu') solver cannot update zeros present in the initialization, and so leads to poorer results when used jointly with init='nndsvd'. You may try init='nndsvda' or init='nndsvdar' instead.\n",
      "  warnings.warn(\n"
     ]
    }
   ],
   "source": [
    "K = 5   # 指定分解出的 signature 数量（可自行修改）\n",
    "\n",
    "model = NMF(\n",
    "    n_components=K,\n",
    "    init=\"nndsvd\",            # 快速收敛的非负 SVD 初始化\n",
    "    solver=\"mu\",              # 乘法更新\n",
    "    beta_loss=\"kullback-leibler\",\n",
    "    max_iter=1000,\n",
    "    random_state=42\n",
    ")\n",
    "\n",
    "W = model.fit_transform(V)    # (突变类别 × K)\n",
    "H = model.components_         # (K × 样本数)\n",
    "\n",
    "print(f\"✅ NMF 完成：W{W.shape}, H{H.shape}\")\n"
   ]
  },
  {
   "cell_type": "code",
   "execution_count": 8,
   "metadata": {},
   "outputs": [
    {
     "name": "stdout",
     "output_type": "stream",
     "text": [
      "🎯 Frobenius 重构误差：2.3685\n"
     ]
    }
   ],
   "source": [
    "recon = W @ H\n",
    "fro_err = np.linalg.norm(V - recon, ord=\"fro\")\n",
    "print(f\"🎯 Frobenius 重构误差：{fro_err:.4f}\")\n"
   ]
  },
  {
   "cell_type": "code",
   "execution_count": 9,
   "metadata": {},
   "outputs": [
    {
     "name": "stdout",
     "output_type": "stream",
     "text": [
      "✅ W/H 已保存至 nmf_results/\n"
     ]
    }
   ],
   "source": [
    "out_dir = \"nmf_results\"\n",
    "os.makedirs(out_dir, exist_ok=True)\n",
    "\n",
    "pd.DataFrame(W, index=V_df.index).to_csv(os.path.join(out_dir, f\"W_K{K}.csv\"))\n",
    "pd.DataFrame(H, columns=V_df.columns).to_csv(os.path.join(out_dir, f\"H_K{K}.csv\"))\n",
    "\n",
    "print(f\"✅ W/H 已保存至 {out_dir}/\")\n"
   ]
  },
  {
   "cell_type": "code",
   "execution_count": null,
   "metadata": {},
   "outputs": [],
   "source": []
  },
  {
   "cell_type": "code",
   "execution_count": null,
   "metadata": {},
   "outputs": [],
   "source": []
  },
  {
   "cell_type": "code",
   "execution_count": null,
   "metadata": {},
   "outputs": [],
   "source": []
  },
  {
   "cell_type": "code",
   "execution_count": 15,
   "metadata": {},
   "outputs": [],
   "source": [
    "import os\n",
    "import warnings\n",
    "import numpy as np\n",
    "import pandas as pd\n",
    "import matplotlib.pyplot as plt\n",
    "from sklearn.decomposition import NMF\n",
    "\n",
    "# 抑制 sklearn NMF 警告（可选）\n",
    "warnings.filterwarnings(\n",
    "    \"ignore\",\n",
    "    category=UserWarning,\n",
    "    module=\"sklearn.decomposition._nmf\"\n",
    ")\n",
    "\n",
    "# ========== 配置 ==========\n",
    "matrix_file = \"TCGA.SBS96.all\"      # ← 改成你要分析的矩阵\n",
    "matrix_path = os.path.join(\"SBS\", matrix_file)\n",
    "assert os.path.exists(matrix_path), f\"找不到 {matrix_path}\"\n",
    "\n",
    "K_list = range(2, 40)               # 想更宽就改这里\n",
    "max_iter = 2000                     # 适当大一点，确保每个 K 都收敛\n",
    "random_state = 42\n",
    "# ==========================\n"
   ]
  },
  {
   "cell_type": "code",
   "execution_count": 16,
   "metadata": {},
   "outputs": [
    {
     "name": "stdout",
     "output_type": "stream",
     "text": [
      "矩阵形状: (96, 512)\n"
     ]
    }
   ],
   "source": [
    "V_df = pd.read_csv(matrix_path, sep=\"\\t\", index_col=0)\n",
    "V = V_df.values.astype(float)\n",
    "V = V / V.sum(axis=0, keepdims=True)   # 列归一化\n",
    "print(\"矩阵形状:\", V.shape)\n"
   ]
  },
  {
   "cell_type": "code",
   "execution_count": 17,
   "metadata": {},
   "outputs": [
    {
     "name": "stdout",
     "output_type": "stream",
     "text": [
      "K= 2 ▶  重构误差 = 2.6751\n",
      "K= 3 ▶  重构误差 = 2.3688\n",
      "K= 4 ▶  重构误差 = 2.1772\n",
      "K= 5 ▶  重构误差 = 2.0491\n",
      "K= 6 ▶  重构误差 = 1.9332\n",
      "K= 7 ▶  重构误差 = 1.8384\n",
      "K= 8 ▶  重构误差 = 1.7777\n",
      "K= 9 ▶  重构误差 = 1.7340\n",
      "K=10 ▶  重构误差 = 1.6881\n",
      "K=11 ▶  重构误差 = 1.6436\n",
      "K=12 ▶  重构误差 = 1.6049\n",
      "K=13 ▶  重构误差 = 1.5693\n",
      "K=14 ▶  重构误差 = 1.5293\n",
      "K=15 ▶  重构误差 = 1.4958\n",
      "K=16 ▶  重构误差 = 1.4624\n",
      "K=17 ▶  重构误差 = 1.4332\n",
      "K=18 ▶  重构误差 = 1.4047\n",
      "K=19 ▶  重构误差 = 1.3752\n",
      "K=20 ▶  重构误差 = 1.3491\n",
      "K=21 ▶  重构误差 = 1.3130\n",
      "K=22 ▶  重构误差 = 1.2892\n",
      "K=23 ▶  重构误差 = 1.2626\n",
      "K=24 ▶  重构误差 = 1.2342\n",
      "K=25 ▶  重构误差 = 1.2075\n",
      "K=26 ▶  重构误差 = 1.1837\n",
      "K=27 ▶  重构误差 = 1.1579\n",
      "K=28 ▶  重构误差 = 1.1353\n",
      "K=29 ▶  重构误差 = 1.1124\n",
      "K=30 ▶  重构误差 = 1.0861\n",
      "K=31 ▶  重构误差 = 1.0645\n",
      "K=32 ▶  重构误差 = 1.0459\n",
      "K=33 ▶  重构误差 = 1.0238\n",
      "K=34 ▶  重构误差 = 1.0041\n",
      "K=35 ▶  重构误差 = 0.9867\n",
      "K=36 ▶  重构误差 = 0.9673\n",
      "K=37 ▶  重构误差 = 0.9476\n",
      "K=38 ▶  重构误差 = 0.9291\n",
      "K=39 ▶  重构误差 = 0.9115\n"
     ]
    }
   ],
   "source": [
    "errors = []\n",
    "\n",
    "for K in K_list:\n",
    "    model = NMF(\n",
    "        n_components=K,\n",
    "        init=\"nndsvd\",      # ↓ 想用 KL+MU 就改成 (\"nndsvda\", \"mu\", \"kullback-leibler\")\n",
    "        solver=\"cd\",\n",
    "        max_iter=max_iter,\n",
    "        random_state=random_state\n",
    "    )\n",
    "    W = model.fit_transform(V)\n",
    "    H = model.components_\n",
    "    recon = W @ H\n",
    "    err = np.linalg.norm(V - recon, ord=\"fro\")\n",
    "    errors.append(err)\n",
    "    print(f\"K={K:2d} ▶  重构误差 = {err:.4f}\")\n"
   ]
  },
  {
   "cell_type": "code",
   "execution_count": 18,
   "metadata": {},
   "outputs": [
    {
     "data": {
      "image/png": "[encoded data removed]",
      "text/plain": [
       "<Figure size 600x400 with 1 Axes>"
      ]
     },
     "metadata": {},
     "output_type": "display_data"
    }
   ],
   "source": [
    "plt.figure(figsize=(6, 4))\n",
    "plt.plot(list(K_list), errors, marker=\"o\", linewidth=2)\n",
    "plt.title(\"NMF: Reconstruction Error vs. K\")\n",
    "plt.xlabel(\"Number of Signatures (K)\")\n",
    "plt.ylabel(\"Frobenius Reconstruction Error\")\n",
    "plt.xticks(list(K_list))\n",
    "plt.grid(alpha=0.3)\n",
    "plt.show()\n"
   ]
  },
  {
   "cell_type": "code",
   "execution_count": 19,
   "metadata": {},
   "outputs": [
    {
     "name": "stdout",
     "output_type": "stream",
     "text": [
      "K= 2 ▶  mean=2.6751 ± 0.0000\n",
      "K= 3 ▶  mean=2.3688 ± 0.0000\n",
      "K= 4 ▶  mean=2.1772 ± 0.0000\n",
      "K= 5 ▶  mean=2.0491 ± 0.0000\n",
      "K= 6 ▶  mean=1.9332 ± 0.0000\n",
      "K= 7 ▶  mean=1.8384 ± 0.0000\n",
      "K= 8 ▶  mean=1.7777 ± 0.0000\n",
      "K= 9 ▶  mean=1.7340 ± 0.0000\n",
      "K=10 ▶  mean=1.6881 ± 0.0000\n",
      "K=11 ▶  mean=1.6436 ± 0.0000\n",
      "K=12 ▶  mean=1.6049 ± 0.0000\n",
      "K=13 ▶  mean=1.5693 ± 0.0000\n",
      "K=14 ▶  mean=1.5293 ± 0.0000\n",
      "K=15 ▶  mean=1.4979 ± 0.0032\n",
      "K=16 ▶  mean=1.4634 ± 0.0019\n",
      "K=17 ▶  mean=1.4332 ± 0.0000\n",
      "K=18 ▶  mean=1.4035 ± 0.0013\n",
      "K=19 ▶  mean=1.3744 ± 0.0005\n",
      "K=20 ▶  mean=1.3491 ± 0.0000\n",
      "K=21 ▶  mean=1.3169 ± 0.0037\n",
      "K=22 ▶  mean=1.2893 ± 0.0041\n",
      "K=23 ▶  mean=1.2631 ± 0.0025\n",
      "K=24 ▶  mean=1.2358 ± 0.0009\n",
      "K=25 ▶  mean=1.2076 ± 0.0005\n",
      "K=26 ▶  mean=1.1837 ± 0.0000\n",
      "K=27 ▶  mean=1.1601 ± 0.0018\n",
      "K=28 ▶  mean=1.1353 ± 0.0000\n",
      "K=29 ▶  mean=1.1129 ± 0.0013\n",
      "K=30 ▶  mean=1.0861 ± 0.0000\n",
      "K=31 ▶  mean=1.0654 ± 0.0025\n",
      "K=32 ▶  mean=1.0456 ± 0.0007\n",
      "K=33 ▶  mean=1.0247 ± 0.0011\n",
      "K=34 ▶  mean=1.0038 ± 0.0015\n",
      "K=35 ▶  mean=0.9852 ± 0.0020\n",
      "K=36 ▶  mean=0.9655 ± 0.0014\n",
      "K=37 ▶  mean=0.9479 ± 0.0008\n",
      "K=38 ▶  mean=0.9289 ± 0.0006\n",
      "K=39 ▶  mean=0.9117 ± 0.0007\n"
     ]
    },
    {
     "data": {
      "image/png": "[encoded data removed]",
      "text/plain": [
       "<Figure size 600x400 with 1 Axes>"
      ]
     },
     "metadata": {},
     "output_type": "display_data"
    }
   ],
   "source": [
    "n_runs = 10\n",
    "errors_mean, errors_std = [], []\n",
    "\n",
    "for K in K_list:\n",
    "    run_err = []\n",
    "    for seed in range(n_runs):\n",
    "        model = NMF(\n",
    "            n_components=K,\n",
    "            init=\"nndsvd\",\n",
    "            solver=\"cd\",\n",
    "            max_iter=max_iter,\n",
    "            random_state=seed\n",
    "        )\n",
    "        W = model.fit_transform(V)\n",
    "        H = model.components_\n",
    "        run_err.append(np.linalg.norm(V - W @ H, ord=\"fro\"))\n",
    "    errors_mean.append(np.mean(run_err))\n",
    "    errors_std.append(np.std(run_err))\n",
    "    print(f\"K={K:2d} ▶  mean={errors_mean[-1]:.4f} ± {errors_std[-1]:.4f}\")\n",
    "\n",
    "# 画误差 ±1σ\n",
    "plt.figure(figsize=(6,4))\n",
    "plt.errorbar(list(K_list), errors_mean, yerr=errors_std,\n",
    "             marker=\"o\", capsize=4, linewidth=2)\n",
    "plt.title(\"NMF: Mean Reconstruction Error ±1σ\")\n",
    "plt.xlabel(\"Number of Signatures (K)\")\n",
    "plt.ylabel(\"Frobenius Error\")\n",
    "plt.grid(alpha=0.3)\n",
    "plt.show()\n"
   ]
  }
 ],
 "metadata": {
  "kernelspec": {
   "display_name": "base",
   "language": "python",
   "name": "python3"
  },
  "language_info": {
   "codemirror_mode": {
    "name": "ipython",
    "version": 3
   },
   "file_extension": ".py",
   "mimetype": "text/x-python",
   "name": "python",
   "nbconvert_exporter": "python",
   "pygments_lexer": "ipython3",
   "version": "3.10.9 | packaged by Anaconda, Inc. | (main, Mar  1 2023, 18:18:15) [MSC v.1916 64 bit (AMD64)]"
  },
  "orig_nbformat": 4,
  "vscode": {
   "interpreter": {
    "hash": "5179d32cf6ec497baf3f8a3ef987cc77c5d2dc691fdde20a56316522f61a7323"
   }
  }
 },
 "nbformat": 4,
 "nbformat_minor": 2
}
