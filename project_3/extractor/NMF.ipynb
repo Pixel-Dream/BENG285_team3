{
 "cells": [
  {
   "cell_type": "code",
   "execution_count": 1,
   "metadata": {},
   "outputs": [
    {
     "name": "stdout",
     "output_type": "stream",
     "text": [
      "开始环境依赖检查...\n",
      "\n",
      "[✓] numpy 已安装，版本：1.26.4\n",
      "[✓] pandas 已安装，版本：2.2.3\n",
      "[✓] sklearn 已安装，版本：1.6.0\n",
      "[✓] scipy 已安装，版本：1.15.3\n",
      "[✓] matplotlib 已安装，版本：3.10.3\n",
      "[✓] seaborn 已安装，版本：0.12.2\n",
      "\n",
      "检查完毕。\n"
     ]
    }
   ],
   "source": [
    "#!/usr/bin/env python3\n",
    "# -*- coding: utf-8 -*-\n",
    "\"\"\"\n",
    "环境依赖检查脚本\n",
    "检查是否安装以下包：\n",
    " - numpy\n",
    " - pandas\n",
    " - scikit-learn\n",
    " - scipy\n",
    " - matplotlib (可选，用于后续可视化)\n",
    " - seaborn   (可选)\n",
    "输出安装状态和版本号，如果未安装则提示安装命令。\n",
    "\"\"\"\n",
    "\n",
    "import importlib.util\n",
    "import subprocess\n",
    "import sys\n",
    "\n",
    "# 要检测的包及其 pip 安装名\n",
    "REQUIRED_PACKAGES = {\n",
    "    \"numpy\": \"numpy\",\n",
    "    \"pandas\": \"pandas\",\n",
    "    \"sklearn\": \"scikit-learn\",\n",
    "    \"scipy\": \"scipy\",\n",
    "    \"matplotlib\": \"matplotlib\",\n",
    "    \"seaborn\": \"seaborn\",\n",
    "}\n",
    "\n",
    "def check_package(pkg_name, install_name=None):\n",
    "    \"\"\"\n",
    "    检查 pkg_name 是否可导入，并打印版本；\n",
    "    如果不可用，给出 pip 安装建议。\n",
    "    \"\"\"\n",
    "    install_name = install_name or pkg_name\n",
    "    spec = importlib.util.find_spec(pkg_name)\n",
    "    if spec is None:\n",
    "        print(f\"[✗] {pkg_name} 未安装，请执行：pip install {install_name}\")\n",
    "    else:\n",
    "        module = importlib.import_module(pkg_name)\n",
    "        version = getattr(module, \"__version__\", \"未知版本\")\n",
    "        print(f\"[✓] {pkg_name} 已安装，版本：{version}\")\n",
    "\n",
    "def main():\n",
    "    print(\"开始环境依赖检查...\\n\")\n",
    "    for pkg, install_name in REQUIRED_PACKAGES.items():\n",
    "        check_package(pkg, install_name)\n",
    "    print(\"\\n检查完毕。\")\n",
    "\n",
    "if __name__ == \"__main__\":\n",
    "    main()\n"
   ]
  },
  {
   "cell_type": "code",
   "execution_count": 3,
   "metadata": {},
   "outputs": [
    {
     "name": "stdout",
     "output_type": "stream",
     "text": [
      "✅ 找到矩阵文件 → ../output/sbs_96_matrix.tsv\n"
     ]
    }
   ],
   "source": [
    "import os\n",
    "import pandas as pd\n",
    "import numpy as np\n",
    "from sklearn.decomposition import NMF\n",
    "\n",
    "# === 修改这里：选择想分析的矩阵文件 ===\n",
    "matrix_file = \"../output/sbs_96_matrix.tsv\"          # 也可以换成 TCGA.SBS18.all 等\n",
    "matrix_path = os.path.join(matrix_file)\n",
    "\n",
    "assert os.path.exists(matrix_path), f\"❌ 找不到 {matrix_path}\"\n",
    "print(\"✅ 找到矩阵文件 →\", matrix_path)\n"
   ]
  },
  {
   "cell_type": "code",
   "execution_count": 4,
   "metadata": {},
   "outputs": [
    {
     "name": "stdout",
     "output_type": "stream",
     "text": [
      "📐 原始矩阵形状： (96, 510)\n"
     ]
    },
    {
     "data": {
      "text/html": [
       "<div>\n",
       "<style scoped>\n",
       "    .dataframe tbody tr th:only-of-type {\n",
       "        vertical-align: middle;\n",
       "    }\n",
       "\n",
       "    .dataframe tbody tr th {\n",
       "        vertical-align: top;\n",
       "    }\n",
       "\n",
       "    .dataframe thead th {\n",
       "        text-align: right;\n",
       "    }\n",
       "</style>\n",
       "<table border=\"1\" class=\"dataframe\">\n",
       "  <thead>\n",
       "    <tr style=\"text-align: right;\">\n",
       "      <th></th>\n",
       "      <th>TCGA-05-4244</th>\n",
       "      <th>TCGA-05-4249</th>\n",
       "      <th>TCGA-05-4250</th>\n",
       "      <th>TCGA-05-4382</th>\n",
       "      <th>TCGA-05-4384</th>\n",
       "    </tr>\n",
       "  </thead>\n",
       "  <tbody>\n",
       "    <tr>\n",
       "      <th>A[C&gt;A]A</th>\n",
       "      <td>6</td>\n",
       "      <td>8</td>\n",
       "      <td>7</td>\n",
       "      <td>62</td>\n",
       "      <td>5</td>\n",
       "    </tr>\n",
       "    <tr>\n",
       "      <th>A[C&gt;A]C</th>\n",
       "      <td>7</td>\n",
       "      <td>11</td>\n",
       "      <td>1</td>\n",
       "      <td>73</td>\n",
       "      <td>2</td>\n",
       "    </tr>\n",
       "    <tr>\n",
       "      <th>A[C&gt;A]G</th>\n",
       "      <td>5</td>\n",
       "      <td>6</td>\n",
       "      <td>10</td>\n",
       "      <td>31</td>\n",
       "      <td>5</td>\n",
       "    </tr>\n",
       "    <tr>\n",
       "      <th>A[C&gt;A]T</th>\n",
       "      <td>2</td>\n",
       "      <td>7</td>\n",
       "      <td>9</td>\n",
       "      <td>48</td>\n",
       "      <td>2</td>\n",
       "    </tr>\n",
       "    <tr>\n",
       "      <th>A[C&gt;G]A</th>\n",
       "      <td>3</td>\n",
       "      <td>3</td>\n",
       "      <td>3</td>\n",
       "      <td>6</td>\n",
       "      <td>0</td>\n",
       "    </tr>\n",
       "  </tbody>\n",
       "</table>\n",
       "</div>"
      ],
      "text/plain": [
       "         TCGA-05-4244  TCGA-05-4249  TCGA-05-4250  TCGA-05-4382  TCGA-05-4384\n",
       "A[C>A]A             6             8             7            62             5\n",
       "A[C>A]C             7            11             1            73             2\n",
       "A[C>A]G             5             6            10            31             5\n",
       "A[C>A]T             2             7             9            48             2\n",
       "A[C>G]A             3             3             3             6             0"
      ]
     },
     "metadata": {},
     "output_type": "display_data"
    }
   ],
   "source": [
    "# *.all 文件由 SigProfiler 生成，默认制表符分隔，一列 MutationType + 多列样本\n",
    "V_df = pd.read_csv(matrix_path, sep=\"\\t\", index_col=0)\n",
    "\n",
    "print(\"📐 原始矩阵形状：\", V_df.shape)   # (突变类别数, 样本数)\n",
    "display(V_df.iloc[:5, :5])              # 预览前 5×5\n"
   ]
  },
  {
   "cell_type": "code",
   "execution_count": 5,
   "metadata": {},
   "outputs": [
    {
     "name": "stdout",
     "output_type": "stream",
     "text": [
      "✅ 归一化完成，形状： (96, 510)\n"
     ]
    }
   ],
   "source": [
    "V = V_df.values.astype(float)\n",
    "\n",
    "# 每个样本列除以本列总和，避免样本总突变数差异过大\n",
    "V = V / V.sum(axis=0, keepdims=True)\n",
    "\n",
    "# 验证无 NaN / Inf\n",
    "assert np.isfinite(V).all(), \"矩阵存在非法值\"\n",
    "print(\"✅ 归一化完成，形状：\", V.shape)\n"
   ]
  },
  {
   "cell_type": "code",
   "execution_count": 6,
   "metadata": {},
   "outputs": [
    {
     "name": "stdout",
     "output_type": "stream",
     "text": [
      "✅ NMF 完成：W(96, 5), H(5, 510)\n"
     ]
    },
    {
     "name": "stderr",
     "output_type": "stream",
     "text": [
      "/opt/homebrew/Caskroom/miniconda/base/envs/sc/lib/python3.10/site-packages/sklearn/decomposition/_nmf.py:1594: UserWarning: The multiplicative update ('mu') solver cannot update zeros present in the initialization, and so leads to poorer results when used jointly with init='nndsvd'. You may try init='nndsvda' or init='nndsvdar' instead.\n",
      "  warnings.warn(\n"
     ]
    }
   ],
   "source": [
    "K = 5   # 指定分解出的 signature 数量（可自行修改）\n",
    "\n",
    "model = NMF(\n",
    "    n_components=K,\n",
    "    init=\"nndsvd\",            # 快速收敛的非负 SVD 初始化\n",
    "    solver=\"mu\",              # 乘法更新\n",
    "    beta_loss=\"kullback-leibler\",\n",
    "    max_iter=1000,\n",
    "    random_state=42\n",
    ")\n",
    "\n",
    "W = model.fit_transform(V)    # (突变类别 × K)\n",
    "H = model.components_         # (K × 样本数)\n",
    "\n",
    "print(f\"✅ NMF 完成：W{W.shape}, H{H.shape}\")\n"
   ]
  },
  {
   "cell_type": "code",
   "execution_count": 7,
   "metadata": {},
   "outputs": [
    {
     "name": "stdout",
     "output_type": "stream",
     "text": [
      "🎯 Frobenius 重构误差：2.1886\n"
     ]
    }
   ],
   "source": [
    "recon = W @ H\n",
    "fro_err = np.linalg.norm(V - recon, ord=\"fro\")\n",
    "print(f\"🎯 Frobenius 重构误差：{fro_err:.4f}\")\n"
   ]
  },
  {
   "cell_type": "code",
   "execution_count": 8,
   "metadata": {},
   "outputs": [
    {
     "name": "stdout",
     "output_type": "stream",
     "text": [
      "✅ W/H 已保存至 nmf_results/\n"
     ]
    }
   ],
   "source": [
    "out_dir = \"nmf_results\"\n",
    "os.makedirs(out_dir, exist_ok=True)\n",
    "\n",
    "pd.DataFrame(W, index=V_df.index).to_csv(os.path.join(out_dir, f\"W_K{K}.csv\"))\n",
    "pd.DataFrame(H, columns=V_df.columns).to_csv(os.path.join(out_dir, f\"H_K{K}.csv\"))\n",
    "\n",
    "print(f\"✅ W/H 已保存至 {out_dir}/\")\n"
   ]
  },
  {
   "cell_type": "code",
   "execution_count": null,
   "metadata": {},
   "outputs": [],
   "source": []
  },
  {
   "cell_type": "code",
   "execution_count": null,
   "metadata": {},
   "outputs": [],
   "source": []
  },
  {
   "cell_type": "code",
   "execution_count": null,
   "metadata": {},
   "outputs": [],
   "source": []
  },
  {
   "cell_type": "code",
   "execution_count": 9,
   "metadata": {},
   "outputs": [],
   "source": [
    "import os\n",
    "import warnings\n",
    "import numpy as np\n",
    "import pandas as pd\n",
    "import matplotlib.pyplot as plt\n",
    "from sklearn.decomposition import NMF\n",
    "\n",
    "# 抑制 sklearn NMF 警告（可选）\n",
    "warnings.filterwarnings(\n",
    "    \"ignore\",\n",
    "    category=UserWarning,\n",
    "    module=\"sklearn.decomposition._nmf\"\n",
    ")\n",
    "\n",
    "# ========== 配置 ==========\n",
    "matrix_file = \"../output/sbs_96_matrix.tsv\"      # ← 改成你要分析的矩阵\n",
    "matrix_path = os.path.join(matrix_file)\n",
    "assert os.path.exists(matrix_path), f\"找不到 {matrix_path}\"\n",
    "\n",
    "K_list = range(2, 40)               # 想更宽就改这里\n",
    "max_iter = 2000                     # 适当大一点，确保每个 K 都收敛\n",
    "random_state = 42\n",
    "# ==========================\n"
   ]
  },
  {
   "cell_type": "code",
   "execution_count": 10,
   "metadata": {},
   "outputs": [
    {
     "name": "stdout",
     "output_type": "stream",
     "text": [
      "矩阵形状: (96, 510)\n"
     ]
    }
   ],
   "source": [
    "V_df = pd.read_csv(matrix_path, sep=\"\\t\", index_col=0)\n",
    "V = V_df.values.astype(float)\n",
    "V = V / V.sum(axis=0, keepdims=True)   # 列归一化\n",
    "print(\"矩阵形状:\", V.shape)\n"
   ]
  },
  {
   "cell_type": "code",
   "execution_count": 11,
   "metadata": {},
   "outputs": [
    {
     "name": "stdout",
     "output_type": "stream",
     "text": [
      "K= 2 ▶  重构误差 = 2.6542\n",
      "K= 3 ▶  重构误差 = 2.3315\n",
      "K= 4 ▶  重构误差 = 2.1298\n",
      "K= 5 ▶  重构误差 = 1.9999\n",
      "K= 6 ▶  重构误差 = 1.9030\n",
      "K= 7 ▶  重构误差 = 1.8435\n",
      "K= 8 ▶  重构误差 = 1.7937\n",
      "K= 9 ▶  重构误差 = 1.7424\n",
      "K=10 ▶  重构误差 = 1.6939\n",
      "K=11 ▶  重构误差 = 1.6542\n",
      "K=12 ▶  重构误差 = 1.6157\n",
      "K=13 ▶  重构误差 = 1.5813\n",
      "K=14 ▶  重构误差 = 1.5476\n",
      "K=15 ▶  重构误差 = 1.5167\n",
      "K=16 ▶  重构误差 = 1.4851\n",
      "K=17 ▶  重构误差 = 1.4535\n",
      "K=18 ▶  重构误差 = 1.4257\n",
      "K=19 ▶  重构误差 = 1.3950\n",
      "K=20 ▶  重构误差 = 1.3669\n",
      "K=21 ▶  重构误差 = 1.3413\n",
      "K=22 ▶  重构误差 = 1.3118\n",
      "K=23 ▶  重构误差 = 1.2864\n",
      "K=24 ▶  重构误差 = 1.2637\n",
      "K=25 ▶  重构误差 = 1.2420\n",
      "K=26 ▶  重构误差 = 1.2162\n",
      "K=27 ▶  重构误差 = 1.1925\n",
      "K=28 ▶  重构误差 = 1.1688\n",
      "K=29 ▶  重构误差 = 1.1508\n",
      "K=30 ▶  重构误差 = 1.1285\n",
      "K=31 ▶  重构误差 = 1.1088\n",
      "K=32 ▶  重构误差 = 1.0832\n",
      "K=33 ▶  重构误差 = 1.0648\n",
      "K=34 ▶  重构误差 = 1.0437\n",
      "K=35 ▶  重构误差 = 1.0240\n",
      "K=36 ▶  重构误差 = 1.0047\n",
      "K=37 ▶  重构误差 = 0.9922\n",
      "K=38 ▶  重构误差 = 0.9681\n",
      "K=39 ▶  重构误差 = 0.9496\n"
     ]
    }
   ],
   "source": [
    "errors = []\n",
    "\n",
    "for K in K_list:\n",
    "    model = NMF(\n",
    "        n_components=K,\n",
    "        init=\"nndsvd\",      # ↓ 想用 KL+MU 就改成 (\"nndsvda\", \"mu\", \"kullback-leibler\")\n",
    "        solver=\"cd\",\n",
    "        max_iter=max_iter,\n",
    "        random_state=random_state\n",
    "    )\n",
    "    W = model.fit_transform(V)\n",
    "    H = model.components_\n",
    "    recon = W @ H\n",
    "    err = np.linalg.norm(V - recon, ord=\"fro\")\n",
    "    errors.append(err)\n",
    "    print(f\"K={K:2d} ▶  重构误差 = {err:.4f}\")\n"
   ]
  },
  {
   "cell_type": "code",
   "execution_count": 12,
   "metadata": {},
   "outputs": [
    {
     "data": {
      "image/png": "[encoded data removed]",
      "text/plain": [
       "<Figure size 600x400 with 1 Axes>"
      ]
     },
     "metadata": {},
     "output_type": "display_data"
    }
   ],
   "source": [
    "plt.figure(figsize=(6, 4))\n",
    "plt.plot(list(K_list), errors, marker=\"o\", linewidth=2)\n",
    "plt.title(\"NMF: Reconstruction Error vs. K\")\n",
    "plt.xlabel(\"Number of Signatures (K)\")\n",
    "plt.ylabel(\"Frobenius Reconstruction Error\")\n",
    "plt.xticks(list(K_list))\n",
    "plt.grid(alpha=0.3)\n",
    "plt.show()\n"
   ]
  },
  {
   "cell_type": "code",
   "execution_count": 13,
   "metadata": {},
   "outputs": [
    {
     "name": "stdout",
     "output_type": "stream",
     "text": [
      "K= 2 ▶  mean=2.6542 ± 0.0000\n",
      "K= 3 ▶  mean=2.3315 ± 0.0000\n",
      "K= 4 ▶  mean=2.1298 ± 0.0000\n",
      "K= 5 ▶  mean=1.9999 ± 0.0000\n",
      "K= 6 ▶  mean=1.9030 ± 0.0000\n",
      "K= 7 ▶  mean=1.8435 ± 0.0000\n",
      "K= 8 ▶  mean=1.7937 ± 0.0000\n",
      "K= 9 ▶  mean=1.7424 ± 0.0000\n",
      "K=10 ▶  mean=1.6939 ± 0.0000\n",
      "K=11 ▶  mean=1.6542 ± 0.0000\n",
      "K=12 ▶  mean=1.6157 ± 0.0000\n",
      "K=13 ▶  mean=1.5813 ± 0.0000\n",
      "K=14 ▶  mean=1.5477 ± 0.0002\n",
      "K=15 ▶  mean=1.5152 ± 0.0005\n",
      "K=16 ▶  mean=1.4845 ± 0.0006\n",
      "K=17 ▶  mean=1.4542 ± 0.0013\n",
      "K=18 ▶  mean=1.4265 ± 0.0007\n",
      "K=19 ▶  mean=1.3949 ± 0.0003\n",
      "K=20 ▶  mean=1.3669 ± 0.0000\n",
      "K=21 ▶  mean=1.3413 ± 0.0000\n",
      "K=22 ▶  mean=1.3126 ± 0.0017\n",
      "K=23 ▶  mean=1.2864 ± 0.0000\n",
      "K=24 ▶  mean=1.2632 ± 0.0003\n",
      "K=25 ▶  mean=1.2418 ± 0.0006\n",
      "K=26 ▶  mean=1.2165 ± 0.0009\n",
      "K=27 ▶  mean=1.1940 ± 0.0017\n",
      "K=28 ▶  mean=1.1691 ± 0.0004\n",
      "K=29 ▶  mean=1.1482 ± 0.0010\n",
      "K=30 ▶  mean=1.1287 ± 0.0007\n",
      "K=31 ▶  mean=1.1048 ± 0.0032\n",
      "K=32 ▶  mean=1.0832 ± 0.0000\n",
      "K=33 ▶  mean=1.0633 ± 0.0010\n",
      "K=34 ▶  mean=1.0438 ± 0.0005\n",
      "K=35 ▶  mean=1.0244 ± 0.0010\n",
      "K=36 ▶  mean=1.0056 ± 0.0010\n",
      "K=37 ▶  mean=0.9875 ± 0.0013\n",
      "K=38 ▶  mean=0.9704 ± 0.0015\n",
      "K=39 ▶  mean=0.9512 ± 0.0014\n"
     ]
    },
    {
     "data": {
      "image/png": "[encoded data removed]",
      "text/plain": [
       "<Figure size 600x400 with 1 Axes>"
      ]
     },
     "metadata": {},
     "output_type": "display_data"
    }
   ],
   "source": [
    "n_runs = 10\n",
    "errors_mean, errors_std = [], []\n",
    "\n",
    "for K in K_list:\n",
    "    run_err = []\n",
    "    for seed in range(n_runs):\n",
    "        model = NMF(\n",
    "            n_components=K,\n",
    "            init=\"nndsvd\",\n",
    "            solver=\"cd\",\n",
    "            max_iter=max_iter,\n",
    "            random_state=seed\n",
    "        )\n",
    "        W = model.fit_transform(V)\n",
    "        H = model.components_\n",
    "        run_err.append(np.linalg.norm(V - W @ H, ord=\"fro\"))\n",
    "    errors_mean.append(np.mean(run_err))\n",
    "    errors_std.append(np.std(run_err))\n",
    "    print(f\"K={K:2d} ▶  mean={errors_mean[-1]:.4f} ± {errors_std[-1]:.4f}\")\n",
    "\n",
    "# 画误差 ±1σ\n",
    "plt.figure(figsize=(6,4))\n",
    "plt.errorbar(list(K_list), errors_mean, yerr=errors_std,\n",
    "             marker=\"o\", capsize=4, linewidth=2)\n",
    "plt.title(\"NMF: Mean Reconstruction Error ±1σ\")\n",
    "plt.xlabel(\"Number of Signatures (K)\")\n",
    "plt.ylabel(\"Frobenius Error\")\n",
    "plt.grid(alpha=0.3)\n",
    "plt.show()\n"
   ]
  }
 ],
 "metadata": {
  "kernelspec": {
   "display_name": "sc",
   "language": "python",
   "name": "python3"
  },
  "language_info": {
   "codemirror_mode": {
    "name": "ipython",
    "version": 3
   },
   "file_extension": ".py",
   "mimetype": "text/x-python",
   "name": "python",
   "nbconvert_exporter": "python",
   "pygments_lexer": "ipython3",
   "version": "3.10.13"
  },
  "orig_nbformat": 4
 },
 "nbformat": 4,
 "nbformat_minor": 2
}
